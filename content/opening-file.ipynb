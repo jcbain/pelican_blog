{
 "cells": [
  {
   "cell_type": "markdown",
   "metadata": {},
   "source": [
    "# Reading in a File\n",
    "\n",
    "Python has multiple ways to read in files. In this example, we will be working with a \"csv\" file, which stands for \"comma separated values\". In otherwords, values in the file are separated by commas. In this case, the comma is what is known as delimiter.\n",
    "\n",
    "The first way we are going to read in a dataset is to use some built in functions. The example is below."
   ]
  },
  {
   "cell_type": "code",
   "execution_count": 45,
   "metadata": {
    "collapsed": false
   },
   "outputs": [],
   "source": [
    "# open the file that you want to read in and name it file\n",
    "with open('../datasets/game-of-thrones/GoT_age_at_death.csv') as file:\n",
    "    \n",
    "    # read the file and split into rows by the '\\n' new line character\n",
    "    raw = file.read()\n",
    "    rows = raw.split('\\n')\n",
    "    \n",
    "    # create an empty list and split each row into a list of values using a for loop \n",
    "    data = []\n",
    "    for item in rows:\n",
    "        row = item.split(',')\n",
    "        data.append(row)"
   ]
  },
  {
   "cell_type": "markdown",
   "metadata": {},
   "source": [
    "That was a bit verbose just to get the data in a workable format. Fortunately (and predictably), there is an easier way to do what we just did above. There is a package in `Python` that handles csv files. Let's see how many lines of code it takes to conduct the exact same task..."
   ]
  },
  {
   "cell_type": "code",
   "execution_count": 34,
   "metadata": {
    "collapsed": false
   },
   "outputs": [],
   "source": [
    "import csv\n",
    "\n",
    "# open the file that you want to read in and name it file\n",
    "with open('../datasets/game-of-thrones/GoT_age_at_death.csv') as file:\n",
    "    \n",
    "    # use the reader() function to read the file and then convert that to a list of lists\n",
    "    reader = csv.reader(file)\n",
    "    data = list(reader)"
   ]
  },
  {
   "cell_type": "markdown",
   "metadata": {},
   "source": [
    "Simple enough, and both have identical outputs. But what does this all mean? How do we do anything interesting on this file?..."
   ]
  }
 ],
 "metadata": {
  "kernelspec": {
   "display_name": "Python 3",
   "language": "python",
   "name": "python3"
  },
  "language_info": {
   "codemirror_mode": {
    "name": "ipython",
    "version": 3
   },
   "file_extension": ".py",
   "mimetype": "text/x-python",
   "name": "python",
   "nbconvert_exporter": "python",
   "pygments_lexer": "ipython3",
   "version": "3.5.1"
  }
 },
 "nbformat": 4,
 "nbformat_minor": 0
}
